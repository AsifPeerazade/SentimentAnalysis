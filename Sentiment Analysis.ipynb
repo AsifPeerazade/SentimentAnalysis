{
 "cells": [
  {
   "cell_type": "code",
   "execution_count": 15,
   "id": "f3f0ac76",
   "metadata": {},
   "outputs": [
    {
     "name": "stdout",
     "output_type": "stream",
     "text": [
      "Requirement already satisfied: ipython-autotime in c:\\users\\lenovo\\anaconda3\\lib\\site-packages (0.3.1)\n",
      "Requirement already satisfied: ipython in c:\\users\\lenovo\\anaconda3\\lib\\site-packages (from ipython-autotime) (7.22.0)\n",
      "Requirement already satisfied: pickleshare in c:\\users\\lenovo\\anaconda3\\lib\\site-packages (from ipython->ipython-autotime) (0.7.5)\n",
      "Requirement already satisfied: prompt-toolkit!=3.0.0,!=3.0.1,<3.1.0,>=2.0.0 in c:\\users\\lenovo\\anaconda3\\lib\\site-packages (from ipython->ipython-autotime) (3.0.17)\n",
      "Requirement already satisfied: traitlets>=4.2 in c:\\users\\lenovo\\anaconda3\\lib\\site-packages (from ipython->ipython-autotime) (5.0.5)\n",
      "Requirement already satisfied: pygments in c:\\users\\lenovo\\anaconda3\\lib\\site-packages (from ipython->ipython-autotime) (2.8.1)\n",
      "Requirement already satisfied: jedi>=0.16 in c:\\users\\lenovo\\anaconda3\\lib\\site-packages (from ipython->ipython-autotime) (0.17.2)\n",
      "Requirement already satisfied: setuptools>=18.5 in c:\\users\\lenovo\\anaconda3\\lib\\site-packages (from ipython->ipython-autotime) (52.0.0.post20210125)\n",
      "Requirement already satisfied: backcall in c:\\users\\lenovo\\anaconda3\\lib\\site-packages (from ipython->ipython-autotime) (0.2.0)\n",
      "Requirement already satisfied: colorama in c:\\users\\lenovo\\anaconda3\\lib\\site-packages (from ipython->ipython-autotime) (0.4.4)\n",
      "Requirement already satisfied: decorator in c:\\users\\lenovo\\anaconda3\\lib\\site-packages (from ipython->ipython-autotime) (5.0.6)\n",
      "Requirement already satisfied: parso<0.8.0,>=0.7.0 in c:\\users\\lenovo\\anaconda3\\lib\\site-packages (from jedi>=0.16->ipython->ipython-autotime) (0.7.0)\n",
      "Requirement already satisfied: wcwidth in c:\\users\\lenovo\\anaconda3\\lib\\site-packages (from prompt-toolkit!=3.0.0,!=3.0.1,<3.1.0,>=2.0.0->ipython->ipython-autotime) (0.2.5)\n",
      "Requirement already satisfied: ipython-genutils in c:\\users\\lenovo\\anaconda3\\lib\\site-packages (from traitlets>=4.2->ipython->ipython-autotime) (0.2.0)\n",
      "time: 0 ns (started: 2021-07-11 15:50:33 +05:30)\n"
     ]
    }
   ],
   "source": [
    " !pip install ipython-autotime\n",
    "%load_ext autotime"
   ]
  },
  {
   "cell_type": "code",
   "execution_count": 16,
   "id": "0eeb3279",
   "metadata": {},
   "outputs": [
    {
     "name": "stdout",
     "output_type": "stream",
     "text": [
      "time: 1.86 s (started: 2021-07-11 15:50:33 +05:30)\n"
     ]
    }
   ],
   "source": [
    "import pandas as pd\n",
    "df=pd.read_fwf(r'C:\\Users\\lenovo\\Desktop\\Major Project\\review.txt',header=None,index=False,names=['Rating', 'Review'])"
   ]
  },
  {
   "cell_type": "code",
   "execution_count": 17,
   "id": "5bf8e41c",
   "metadata": {},
   "outputs": [
    {
     "data": {
      "text/html": [
       "<div>\n",
       "<style scoped>\n",
       "    .dataframe tbody tr th:only-of-type {\n",
       "        vertical-align: middle;\n",
       "    }\n",
       "\n",
       "    .dataframe tbody tr th {\n",
       "        vertical-align: top;\n",
       "    }\n",
       "\n",
       "    .dataframe thead th {\n",
       "        text-align: right;\n",
       "    }\n",
       "</style>\n",
       "<table border=\"1\" class=\"dataframe\">\n",
       "  <thead>\n",
       "    <tr style=\"text-align: right;\">\n",
       "      <th></th>\n",
       "      <th>Rating</th>\n",
       "      <th>Review</th>\n",
       "    </tr>\n",
       "  </thead>\n",
       "  <tbody>\n",
       "    <tr>\n",
       "      <th>0</th>\n",
       "      <td>__label__2</td>\n",
       "      <td>Great CD: My lovely Pat has one of the GREAT v...</td>\n",
       "    </tr>\n",
       "    <tr>\n",
       "      <th>1</th>\n",
       "      <td>__label__2</td>\n",
       "      <td>One of the best game music soundtracks - for a...</td>\n",
       "    </tr>\n",
       "    <tr>\n",
       "      <th>2</th>\n",
       "      <td>__label__1</td>\n",
       "      <td>Batteries died within a year ...: I bought thi...</td>\n",
       "    </tr>\n",
       "    <tr>\n",
       "      <th>3</th>\n",
       "      <td>__label__2</td>\n",
       "      <td>works fine, but Maha Energy is better: Check o...</td>\n",
       "    </tr>\n",
       "    <tr>\n",
       "      <th>4</th>\n",
       "      <td>__label__2</td>\n",
       "      <td>Great for the non-audiophile: Reviewed quite a...</td>\n",
       "    </tr>\n",
       "  </tbody>\n",
       "</table>\n",
       "</div>"
      ],
      "text/plain": [
       "       Rating                                             Review\n",
       "0  __label__2  Great CD: My lovely Pat has one of the GREAT v...\n",
       "1  __label__2  One of the best game music soundtracks - for a...\n",
       "2  __label__1  Batteries died within a year ...: I bought thi...\n",
       "3  __label__2  works fine, but Maha Energy is better: Check o...\n",
       "4  __label__2  Great for the non-audiophile: Reviewed quite a..."
      ]
     },
     "execution_count": 17,
     "metadata": {},
     "output_type": "execute_result"
    },
    {
     "name": "stdout",
     "output_type": "stream",
     "text": [
      "time: 0 ns (started: 2021-07-11 15:50:35 +05:30)\n"
     ]
    }
   ],
   "source": [
    "df.head()"
   ]
  },
  {
   "cell_type": "code",
   "execution_count": 18,
   "id": "1758d1f9",
   "metadata": {},
   "outputs": [
    {
     "name": "stdout",
     "output_type": "stream",
     "text": [
      "time: 78 ms (started: 2021-07-11 15:50:37 +05:30)\n"
     ]
    }
   ],
   "source": [
    "df['Rating'] = df['Rating'].replace(['__label__1'],'Negative')\n",
    "df['Rating'] = df['Rating'].replace(['__label__2'],'Positive')"
   ]
  },
  {
   "cell_type": "code",
   "execution_count": 19,
   "id": "cde9e4ab",
   "metadata": {},
   "outputs": [
    {
     "data": {
      "text/html": [
       "<div>\n",
       "<style scoped>\n",
       "    .dataframe tbody tr th:only-of-type {\n",
       "        vertical-align: middle;\n",
       "    }\n",
       "\n",
       "    .dataframe tbody tr th {\n",
       "        vertical-align: top;\n",
       "    }\n",
       "\n",
       "    .dataframe thead th {\n",
       "        text-align: right;\n",
       "    }\n",
       "</style>\n",
       "<table border=\"1\" class=\"dataframe\">\n",
       "  <thead>\n",
       "    <tr style=\"text-align: right;\">\n",
       "      <th></th>\n",
       "      <th>Rating</th>\n",
       "      <th>Review</th>\n",
       "    </tr>\n",
       "  </thead>\n",
       "  <tbody>\n",
       "    <tr>\n",
       "      <th>0</th>\n",
       "      <td>Positive</td>\n",
       "      <td>Great CD: My lovely Pat has one of the GREAT v...</td>\n",
       "    </tr>\n",
       "    <tr>\n",
       "      <th>1</th>\n",
       "      <td>Positive</td>\n",
       "      <td>One of the best game music soundtracks - for a...</td>\n",
       "    </tr>\n",
       "    <tr>\n",
       "      <th>2</th>\n",
       "      <td>Negative</td>\n",
       "      <td>Batteries died within a year ...: I bought thi...</td>\n",
       "    </tr>\n",
       "    <tr>\n",
       "      <th>3</th>\n",
       "      <td>Positive</td>\n",
       "      <td>works fine, but Maha Energy is better: Check o...</td>\n",
       "    </tr>\n",
       "    <tr>\n",
       "      <th>4</th>\n",
       "      <td>Positive</td>\n",
       "      <td>Great for the non-audiophile: Reviewed quite a...</td>\n",
       "    </tr>\n",
       "  </tbody>\n",
       "</table>\n",
       "</div>"
      ],
      "text/plain": [
       "     Rating                                             Review\n",
       "0  Positive  Great CD: My lovely Pat has one of the GREAT v...\n",
       "1  Positive  One of the best game music soundtracks - for a...\n",
       "2  Negative  Batteries died within a year ...: I bought thi...\n",
       "3  Positive  works fine, but Maha Energy is better: Check o...\n",
       "4  Positive  Great for the non-audiophile: Reviewed quite a..."
      ]
     },
     "execution_count": 19,
     "metadata": {},
     "output_type": "execute_result"
    },
    {
     "name": "stdout",
     "output_type": "stream",
     "text": [
      "time: 0 ns (started: 2021-07-11 15:50:43 +05:30)\n"
     ]
    }
   ],
   "source": [
    "df.head()"
   ]
  },
  {
   "cell_type": "code",
   "execution_count": 20,
   "id": "72e64c28",
   "metadata": {},
   "outputs": [
    {
     "name": "stdout",
     "output_type": "stream",
     "text": [
      "time: 0 ns (started: 2021-07-11 15:50:44 +05:30)\n"
     ]
    },
    {
     "name": "stderr",
     "output_type": "stream",
     "text": [
      "[nltk_data] Downloading package stopwords to\n",
      "[nltk_data]     C:\\Users\\lenovo\\AppData\\Roaming\\nltk_data...\n",
      "[nltk_data]   Package stopwords is already up-to-date!\n"
     ]
    }
   ],
   "source": [
    "import nltk\n",
    "nltk.download('stopwords')\n",
    "stopwords_list = nltk.corpus.stopwords.words('english')\n",
    "stopwords_list.remove('no')\n",
    "stopwords_list.remove('not')"
   ]
  },
  {
   "cell_type": "code",
   "execution_count": 21,
   "id": "06a8e499",
   "metadata": {},
   "outputs": [
    {
     "name": "stdout",
     "output_type": "stream",
     "text": [
      "time: 0 ns (started: 2021-07-11 15:50:45 +05:30)\n"
     ]
    }
   ],
   "source": [
    "import re\n",
    "def remove_sp(text):\n",
    "  pattern = r'[^A-Za-z0-9\\s]'\n",
    "  text = re.sub(pattern,\"\",text)\n",
    "  return text"
   ]
  },
  {
   "cell_type": "code",
   "execution_count": 22,
   "id": "b7b81c29",
   "metadata": {},
   "outputs": [
    {
     "name": "stdout",
     "output_type": "stream",
     "text": [
      "time: 46 ms (started: 2021-07-11 15:50:50 +05:30)\n"
     ]
    }
   ],
   "source": [
    "df['Rating'] = df['Rating'].replace(['__label__1'],'Negative')\n",
    "df['Rating'] = df['Rating'].replace(['__label__2'],'Positive')"
   ]
  },
  {
   "cell_type": "code",
   "execution_count": 23,
   "id": "be7ae9f5",
   "metadata": {},
   "outputs": [
    {
     "data": {
      "text/html": [
       "<div>\n",
       "<style scoped>\n",
       "    .dataframe tbody tr th:only-of-type {\n",
       "        vertical-align: middle;\n",
       "    }\n",
       "\n",
       "    .dataframe tbody tr th {\n",
       "        vertical-align: top;\n",
       "    }\n",
       "\n",
       "    .dataframe thead th {\n",
       "        text-align: right;\n",
       "    }\n",
       "</style>\n",
       "<table border=\"1\" class=\"dataframe\">\n",
       "  <thead>\n",
       "    <tr style=\"text-align: right;\">\n",
       "      <th></th>\n",
       "      <th>Rating</th>\n",
       "      <th>Review</th>\n",
       "    </tr>\n",
       "  </thead>\n",
       "  <tbody>\n",
       "    <tr>\n",
       "      <th>0</th>\n",
       "      <td>Positive</td>\n",
       "      <td>Great CD: My lovely Pat has one of the GREAT v...</td>\n",
       "    </tr>\n",
       "    <tr>\n",
       "      <th>1</th>\n",
       "      <td>Positive</td>\n",
       "      <td>One of the best game music soundtracks - for a...</td>\n",
       "    </tr>\n",
       "    <tr>\n",
       "      <th>2</th>\n",
       "      <td>Negative</td>\n",
       "      <td>Batteries died within a year ...: I bought thi...</td>\n",
       "    </tr>\n",
       "    <tr>\n",
       "      <th>3</th>\n",
       "      <td>Positive</td>\n",
       "      <td>works fine, but Maha Energy is better: Check o...</td>\n",
       "    </tr>\n",
       "    <tr>\n",
       "      <th>4</th>\n",
       "      <td>Positive</td>\n",
       "      <td>Great for the non-audiophile: Reviewed quite a...</td>\n",
       "    </tr>\n",
       "    <tr>\n",
       "      <th>...</th>\n",
       "      <td>...</td>\n",
       "      <td>...</td>\n",
       "    </tr>\n",
       "    <tr>\n",
       "      <th>399995</th>\n",
       "      <td>Negative</td>\n",
       "      <td>Unbelievable- In a Bad Way: We bought this Tho...</td>\n",
       "    </tr>\n",
       "    <tr>\n",
       "      <th>399996</th>\n",
       "      <td>Negative</td>\n",
       "      <td>Almost Great, Until it Broke...: My son reciev...</td>\n",
       "    </tr>\n",
       "    <tr>\n",
       "      <th>399997</th>\n",
       "      <td>Negative</td>\n",
       "      <td>Disappointed !!!: I bought this toy for my son...</td>\n",
       "    </tr>\n",
       "    <tr>\n",
       "      <th>399998</th>\n",
       "      <td>Positive</td>\n",
       "      <td>Classic Jessica Mitford: This is a compilation...</td>\n",
       "    </tr>\n",
       "    <tr>\n",
       "      <th>399999</th>\n",
       "      <td>Negative</td>\n",
       "      <td>Comedy Scene, and Not Heard: This DVD will be ...</td>\n",
       "    </tr>\n",
       "  </tbody>\n",
       "</table>\n",
       "<p>400000 rows × 2 columns</p>\n",
       "</div>"
      ],
      "text/plain": [
       "          Rating                                             Review\n",
       "0       Positive  Great CD: My lovely Pat has one of the GREAT v...\n",
       "1       Positive  One of the best game music soundtracks - for a...\n",
       "2       Negative  Batteries died within a year ...: I bought thi...\n",
       "3       Positive  works fine, but Maha Energy is better: Check o...\n",
       "4       Positive  Great for the non-audiophile: Reviewed quite a...\n",
       "...          ...                                                ...\n",
       "399995  Negative  Unbelievable- In a Bad Way: We bought this Tho...\n",
       "399996  Negative  Almost Great, Until it Broke...: My son reciev...\n",
       "399997  Negative  Disappointed !!!: I bought this toy for my son...\n",
       "399998  Positive  Classic Jessica Mitford: This is a compilation...\n",
       "399999  Negative  Comedy Scene, and Not Heard: This DVD will be ...\n",
       "\n",
       "[400000 rows x 2 columns]"
      ]
     },
     "execution_count": 23,
     "metadata": {},
     "output_type": "execute_result"
    },
    {
     "name": "stdout",
     "output_type": "stream",
     "text": [
      "time: 0 ns (started: 2021-07-11 15:50:51 +05:30)\n"
     ]
    }
   ],
   "source": [
    "df"
   ]
  },
  {
   "cell_type": "code",
   "execution_count": 24,
   "id": "3ff43f3f",
   "metadata": {},
   "outputs": [
    {
     "name": "stdout",
     "output_type": "stream",
     "text": [
      "time: 0 ns (started: 2021-07-11 15:50:56 +05:30)\n"
     ]
    }
   ],
   "source": [
    "import re\n",
    "import string\n",
    "#remove special characters\n",
    "def remove_sp(text):\n",
    "    text = text.lower()\n",
    "    text = re.sub('\\[.*?\\]',\"\",text)\n",
    "    text = re.sub('[%s]' %re.escape(string.punctuation), \"\", text)\n",
    "    text = re.sub('\\w*\\d\\w',\"\",text)\n",
    "    text = re.sub('[''\"\"_]', \"\", text)\n",
    "    text = re.sub('\\n',\"\", text)\n",
    "    return text"
   ]
  },
  {
   "cell_type": "code",
   "execution_count": 25,
   "id": "0fefc4d9",
   "metadata": {},
   "outputs": [
    {
     "name": "stdout",
     "output_type": "stream",
     "text": [
      "time: 0 ns (started: 2021-07-11 15:50:57 +05:30)\n"
     ]
    }
   ],
   "source": [
    "from nltk.tokenize.toktok import ToktokTokenizer\n",
    "tokenizer = ToktokTokenizer()\n",
    "\n",
    "#remove stopwords\n",
    "def remove_stopwords(text):\n",
    "  tokens = tokenizer.tokenize(text)\n",
    "  tokens = [token.strip() for token in tokens]\n",
    "  filtered_tokens = [token for token in tokens if token not in stopwords_list]\n",
    "  filtered_text = ' '.join(filtered_tokens)\n",
    "  return filtered_text"
   ]
  },
  {
   "cell_type": "code",
   "execution_count": 26,
   "id": "35acef4c",
   "metadata": {},
   "outputs": [
    {
     "name": "stdout",
     "output_type": "stream",
     "text": [
      "time: 1min 47s (started: 2021-07-11 15:50:58 +05:30)\n"
     ]
    }
   ],
   "source": [
    "df.Review = df.Review.apply(lambda x:x.lower())\n",
    "\n",
    "df.Review = df.Review.apply(remove_sp)\n",
    "\n",
    "df.Review = df.Review.apply(remove_stopwords)"
   ]
  },
  {
   "cell_type": "code",
   "execution_count": 27,
   "id": "b83938c9",
   "metadata": {},
   "outputs": [
    {
     "name": "stdout",
     "output_type": "stream",
     "text": [
      "time: 0 ns (started: 2021-07-11 15:53:07 +05:30)\n"
     ]
    }
   ],
   "source": [
    "x = df['Review'].values\n",
    "y = df['Rating'].values"
   ]
  },
  {
   "cell_type": "code",
   "execution_count": 28,
   "id": "8e4604c0",
   "metadata": {},
   "outputs": [
    {
     "name": "stdout",
     "output_type": "stream",
     "text": [
      "time: 62 ms (started: 2021-07-11 15:53:08 +05:30)\n"
     ]
    }
   ],
   "source": [
    "from sklearn.model_selection import train_test_split\n",
    "x_train, x_test, y_train, y_test = train_test_split(x,y,random_state = 0)"
   ]
  },
  {
   "cell_type": "code",
   "execution_count": 29,
   "id": "8fd1cf1e",
   "metadata": {},
   "outputs": [
    {
     "name": "stdout",
     "output_type": "stream",
     "text": [
      "time: 78 ms (started: 2021-07-11 15:53:23 +05:30)\n"
     ]
    }
   ],
   "source": [
    "from sklearn.feature_extraction.text import TfidfVectorizer\n",
    "from sklearn.naive_bayes import MultinomialNB\n",
    "from sklearn.pipeline import make_pipeline\n",
    "\n",
    "clf = make_pipeline(TfidfVectorizer(), MultinomialNB())"
   ]
  },
  {
   "cell_type": "code",
   "execution_count": 30,
   "id": "42ddfd04",
   "metadata": {},
   "outputs": [
    {
     "name": "stdout",
     "output_type": "stream",
     "text": [
      "time: 16.2 s (started: 2021-07-11 15:53:33 +05:30)\n"
     ]
    }
   ],
   "source": [
    "clf.fit(x_train, y_train)\n",
    "predicted = clf.predict(x_test)"
   ]
  },
  {
   "cell_type": "code",
   "execution_count": 31,
   "id": "a31c5fa9",
   "metadata": {},
   "outputs": [
    {
     "name": "stdout",
     "output_type": "stream",
     "text": [
      "0.84686\n",
      "time: 3.77 s (started: 2021-07-11 15:53:51 +05:30)\n"
     ]
    }
   ],
   "source": [
    "from  sklearn.metrics  import accuracy_score\n",
    "predicted = clf.predict(x_test)\n",
    "print(accuracy_score(y_test,predicted))"
   ]
  },
  {
   "cell_type": "code",
   "execution_count": 32,
   "id": "784654a7",
   "metadata": {},
   "outputs": [
    {
     "data": {
      "text/plain": [
       "array(['Negative', 'Positive', 'Negative', ..., 'Negative', 'Positive',\n",
       "       'Negative'], dtype='<U8')"
      ]
     },
     "execution_count": 32,
     "metadata": {},
     "output_type": "execute_result"
    },
    {
     "name": "stdout",
     "output_type": "stream",
     "text": [
      "time: 0 ns (started: 2021-07-11 15:54:00 +05:30)\n"
     ]
    }
   ],
   "source": [
    "predicted"
   ]
  },
  {
   "cell_type": "code",
   "execution_count": 33,
   "id": "04558e39",
   "metadata": {},
   "outputs": [
    {
     "data": {
      "text/plain": [
       "array(['Negative', 'Positive', 'Negative', ..., 'Negative', 'Negative',\n",
       "       'Negative'], dtype=object)"
      ]
     },
     "execution_count": 33,
     "metadata": {},
     "output_type": "execute_result"
    },
    {
     "name": "stdout",
     "output_type": "stream",
     "text": [
      "time: 0 ns (started: 2021-07-11 15:54:10 +05:30)\n"
     ]
    }
   ],
   "source": [
    "y_test"
   ]
  },
  {
   "cell_type": "code",
   "execution_count": 34,
   "id": "3330ff1f",
   "metadata": {},
   "outputs": [
    {
     "name": "stdout",
     "output_type": "stream",
     "text": [
      "time: 141 ms (started: 2021-07-11 15:54:25 +05:30)\n"
     ]
    }
   ],
   "source": [
    "import pickle\n",
    "pickle.dump(clf,open('SentimentAnalysis.p','wb'))"
   ]
  },
  {
   "cell_type": "code",
   "execution_count": 35,
   "id": "2aedf060",
   "metadata": {},
   "outputs": [
    {
     "name": "stdout",
     "output_type": "stream",
     "text": [
      "time: 109 ms (started: 2021-07-11 15:54:36 +05:30)\n"
     ]
    }
   ],
   "source": [
    "model = pickle.load(open('SentimentAnalysis.p','rb'))"
   ]
  },
  {
   "cell_type": "code",
   "execution_count": 39,
   "id": "0db24d18",
   "metadata": {},
   "outputs": [
    {
     "name": "stdout",
     "output_type": "stream",
     "text": [
      "Enter Text: bad product\n",
      "['bad product']\n",
      "Predicted output: ['Negative']\n",
      "Negative : 76.2347149314829%\n",
      "Positive : 23.765285068517127%\n",
      "time: 6.05 s (started: 2021-07-11 16:05:02 +05:30)\n"
     ]
    }
   ],
   "source": [
    "text = input(\"Enter Text: \")\n",
    "text = text.lower()\n",
    "text = remove_sp(text)\n",
    "text = remove_stopwords(text)\n",
    "text = [text]\n",
    "print(text)\n",
    "y_out = model.predict(text)\n",
    "print(f'Predicted output: {y_out}')\n",
    "CATEGORIES = ['Negative', 'Positive']\n",
    "q = model.predict_proba(text)\n",
    "for index, item in enumerate(CATEGORIES):\n",
    "      print(f'{item} : {q[0][index]*100}%')"
   ]
  },
  {
   "cell_type": "code",
   "execution_count": 42,
   "id": "9c128945",
   "metadata": {},
   "outputs": [
    {
     "name": "stdout",
     "output_type": "stream",
     "text": [
      "Overwriting app.py\n",
      "time: 0 ns (started: 2021-07-11 16:31:26 +05:30)\n"
     ]
    }
   ],
   "source": [
    "%%writefile app.py\n",
    "import streamlit as st\n",
    "import os\n",
    "import matplotlib.pyplot as plt\n",
    "import numpy as np\n",
    "import nltk\n",
    "import re\n",
    "import string\n",
    "import pickle\n",
    "from nltk.tokenize.toktok import ToktokTokenizer\n",
    "from sklearn.feature_extraction.text import TfidfTransformer\n",
    "from sklearn.feature_extraction.text import TfidfVectorizer\n",
    "from sklearn.naive_bayes import MultinomialNB\n",
    "from nltk.tokenize.toktok import ToktokTokenizer\n",
    "tokenizer = ToktokTokenizer()\n",
    "import nltk\n",
    "nltk.download('stopwords')\n",
    "stopwords_list = nltk.corpus.stopwords.words('english')\n",
    "stopwords_list.remove('no')\n",
    "stopwords_list.remove('not')\n",
    "model = pickle.load(open('SentimentAnalysis.p','rb'))\n",
    "\n",
    "st.title(\"Sentiment Analysis\")\n",
    "st.subheader(\"Enter Text: \")\n",
    "text = st.text_input(\" \")\n",
    "def remove_sp(text):\n",
    "        text = text.lower()\n",
    "        text = re.sub('\\[.*?\\]',\"\",text)\n",
    "        text = re.sub('[%s]' %re.escape(string.punctuation), \"\", text)\n",
    "        text = re.sub('\\w*\\d\\w',\"\",text)\n",
    "        text = re.sub('[''\"\"_]', \"\", text)\n",
    "        text = re.sub('\\n',\"\", text)\n",
    "        return text\n",
    "    \n",
    "    #remove stopwords\n",
    "def remove_stopwords(text):\n",
    "  tokens = tokenizer.tokenize(text)\n",
    "  tokens = [token.strip() for token in tokens]\n",
    "  filtered_tokens = [token for token in tokens if token not in stopwords_list]\n",
    "  filtered_text = ' '.join(filtered_tokens)\n",
    "  return filtered_text\n",
    "\n",
    "text = text.lower()\n",
    "text = remove_sp(text)\n",
    "text = remove_stopwords(text)\n",
    "st.write(text)\n",
    "text = [text]\n",
    "y_out = model.predict(text)\n",
    "\n",
    "if st.button(\"Predict\"):\n",
    "    \n",
    "    st.write(f'PREDICTED OUTPUT: {y_out}')\n",
    "\n",
    "    if (y_out == \"Positive\"):\n",
    "        st.write(\"\\U0001f600\")\n",
    "    else:\n",
    "        st.write(\"😞\")\n",
    "    \n",
    "    CATEGORIES = ['Negative', 'Positive']\n",
    "    q = model.predict_proba(text)\n",
    "    for index, item in enumerate(CATEGORIES):\n",
    "          st.write(f'{item} : {q[0][index]*100}%')\n",
    "    "
   ]
  },
  {
   "cell_type": "code",
   "execution_count": null,
   "id": "0a15cb3b",
   "metadata": {},
   "outputs": [],
   "source": []
  }
 ],
 "metadata": {
  "kernelspec": {
   "display_name": "Python 3",
   "language": "python",
   "name": "python3"
  },
  "language_info": {
   "codemirror_mode": {
    "name": "ipython",
    "version": 3
   },
   "file_extension": ".py",
   "mimetype": "text/x-python",
   "name": "python",
   "nbconvert_exporter": "python",
   "pygments_lexer": "ipython3",
   "version": "3.8.8"
  }
 },
 "nbformat": 4,
 "nbformat_minor": 5
}
